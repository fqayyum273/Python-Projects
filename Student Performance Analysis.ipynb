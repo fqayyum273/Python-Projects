{
 "cells": [
  {
   "cell_type": "code",
   "execution_count": 2,
   "id": "b546e4d7",
   "metadata": {},
   "outputs": [],
   "source": [
    "import numpy as np\n",
    "import pandas as pd\n",
    "import matplotlib.pyplot as plt\n",
    "import seaborn as sns"
   ]
  },
  {
   "cell_type": "code",
   "execution_count": 3,
   "id": "8b139dc0",
   "metadata": {},
   "outputs": [
    {
     "name": "stdout",
     "output_type": "stream",
     "text": [
      "   Unnamed: 0  Gender EthnicGroup          ParentEduc     LunchType TestPrep  \\\n",
      "0           0  female         NaN   bachelor's degree      standard     none   \n",
      "1           1  female     group C        some college      standard      NaN   \n",
      "2           2  female     group B     master's degree      standard     none   \n",
      "3           3    male     group A  associate's degree  free/reduced     none   \n",
      "4           4    male     group C        some college      standard     none   \n",
      "\n",
      "  ParentMaritalStatus PracticeSport IsFirstChild  NrSiblings TransportMeans  \\\n",
      "0             married     regularly          yes         3.0     school_bus   \n",
      "1             married     sometimes          yes         0.0            NaN   \n",
      "2              single     sometimes          yes         4.0     school_bus   \n",
      "3             married         never           no         1.0            NaN   \n",
      "4             married     sometimes          yes         0.0     school_bus   \n",
      "\n",
      "  WklyStudyHours  MathScore  ReadingScore  WritingScore  \n",
      "0            < 5         71            71            74  \n",
      "1         5 - 10         69            90            88  \n",
      "2            < 5         87            93            91  \n",
      "3         5 - 10         45            56            42  \n",
      "4         5 - 10         76            78            75  \n"
     ]
    }
   ],
   "source": [
    "df = pd.read_csv(\"student scores.csv\")\n",
    "print(df.head())"
   ]
  },
  {
   "cell_type": "code",
   "execution_count": 4,
   "id": "b109287d",
   "metadata": {},
   "outputs": [
    {
     "data": {
      "text/html": [
       "<div>\n",
       "<style scoped>\n",
       "    .dataframe tbody tr th:only-of-type {\n",
       "        vertical-align: middle;\n",
       "    }\n",
       "\n",
       "    .dataframe tbody tr th {\n",
       "        vertical-align: top;\n",
       "    }\n",
       "\n",
       "    .dataframe thead th {\n",
       "        text-align: right;\n",
       "    }\n",
       "</style>\n",
       "<table border=\"1\" class=\"dataframe\">\n",
       "  <thead>\n",
       "    <tr style=\"text-align: right;\">\n",
       "      <th></th>\n",
       "      <th>Unnamed: 0</th>\n",
       "      <th>NrSiblings</th>\n",
       "      <th>MathScore</th>\n",
       "      <th>ReadingScore</th>\n",
       "      <th>WritingScore</th>\n",
       "    </tr>\n",
       "  </thead>\n",
       "  <tbody>\n",
       "    <tr>\n",
       "      <th>count</th>\n",
       "      <td>30641.000000</td>\n",
       "      <td>29069.000000</td>\n",
       "      <td>30641.000000</td>\n",
       "      <td>30641.000000</td>\n",
       "      <td>30641.000000</td>\n",
       "    </tr>\n",
       "    <tr>\n",
       "      <th>mean</th>\n",
       "      <td>499.556607</td>\n",
       "      <td>2.145894</td>\n",
       "      <td>66.558402</td>\n",
       "      <td>69.377533</td>\n",
       "      <td>68.418622</td>\n",
       "    </tr>\n",
       "    <tr>\n",
       "      <th>std</th>\n",
       "      <td>288.747894</td>\n",
       "      <td>1.458242</td>\n",
       "      <td>15.361616</td>\n",
       "      <td>14.758952</td>\n",
       "      <td>15.443525</td>\n",
       "    </tr>\n",
       "    <tr>\n",
       "      <th>min</th>\n",
       "      <td>0.000000</td>\n",
       "      <td>0.000000</td>\n",
       "      <td>0.000000</td>\n",
       "      <td>10.000000</td>\n",
       "      <td>4.000000</td>\n",
       "    </tr>\n",
       "    <tr>\n",
       "      <th>25%</th>\n",
       "      <td>249.000000</td>\n",
       "      <td>1.000000</td>\n",
       "      <td>56.000000</td>\n",
       "      <td>59.000000</td>\n",
       "      <td>58.000000</td>\n",
       "    </tr>\n",
       "    <tr>\n",
       "      <th>50%</th>\n",
       "      <td>500.000000</td>\n",
       "      <td>2.000000</td>\n",
       "      <td>67.000000</td>\n",
       "      <td>70.000000</td>\n",
       "      <td>69.000000</td>\n",
       "    </tr>\n",
       "    <tr>\n",
       "      <th>75%</th>\n",
       "      <td>750.000000</td>\n",
       "      <td>3.000000</td>\n",
       "      <td>78.000000</td>\n",
       "      <td>80.000000</td>\n",
       "      <td>79.000000</td>\n",
       "    </tr>\n",
       "    <tr>\n",
       "      <th>max</th>\n",
       "      <td>999.000000</td>\n",
       "      <td>7.000000</td>\n",
       "      <td>100.000000</td>\n",
       "      <td>100.000000</td>\n",
       "      <td>100.000000</td>\n",
       "    </tr>\n",
       "  </tbody>\n",
       "</table>\n",
       "</div>"
      ],
      "text/plain": [
       "         Unnamed: 0    NrSiblings     MathScore  ReadingScore  WritingScore\n",
       "count  30641.000000  29069.000000  30641.000000  30641.000000  30641.000000\n",
       "mean     499.556607      2.145894     66.558402     69.377533     68.418622\n",
       "std      288.747894      1.458242     15.361616     14.758952     15.443525\n",
       "min        0.000000      0.000000      0.000000     10.000000      4.000000\n",
       "25%      249.000000      1.000000     56.000000     59.000000     58.000000\n",
       "50%      500.000000      2.000000     67.000000     70.000000     69.000000\n",
       "75%      750.000000      3.000000     78.000000     80.000000     79.000000\n",
       "max      999.000000      7.000000    100.000000    100.000000    100.000000"
      ]
     },
     "execution_count": 4,
     "metadata": {},
     "output_type": "execute_result"
    }
   ],
   "source": [
    "df.describe()"
   ]
  },
  {
   "cell_type": "code",
   "execution_count": 5,
   "id": "e23be115",
   "metadata": {},
   "outputs": [
    {
     "name": "stdout",
     "output_type": "stream",
     "text": [
      "<class 'pandas.core.frame.DataFrame'>\n",
      "RangeIndex: 30641 entries, 0 to 30640\n",
      "Data columns (total 15 columns):\n",
      " #   Column               Non-Null Count  Dtype  \n",
      "---  ------               --------------  -----  \n",
      " 0   Unnamed: 0           30641 non-null  int64  \n",
      " 1   Gender               30641 non-null  object \n",
      " 2   EthnicGroup          28801 non-null  object \n",
      " 3   ParentEduc           28796 non-null  object \n",
      " 4   LunchType            30641 non-null  object \n",
      " 5   TestPrep             28811 non-null  object \n",
      " 6   ParentMaritalStatus  29451 non-null  object \n",
      " 7   PracticeSport        30010 non-null  object \n",
      " 8   IsFirstChild         29737 non-null  object \n",
      " 9   NrSiblings           29069 non-null  float64\n",
      " 10  TransportMeans       27507 non-null  object \n",
      " 11  WklyStudyHours       29686 non-null  object \n",
      " 12  MathScore            30641 non-null  int64  \n",
      " 13  ReadingScore         30641 non-null  int64  \n",
      " 14  WritingScore         30641 non-null  int64  \n",
      "dtypes: float64(1), int64(4), object(10)\n",
      "memory usage: 2.3+ MB\n"
     ]
    }
   ],
   "source": [
    "df.info()"
   ]
  },
  {
   "cell_type": "markdown",
   "id": "534e1bb6",
   "metadata": {},
   "source": [
    "# Check for Duplicates"
   ]
  },
  {
   "cell_type": "code",
   "execution_count": 7,
   "id": "84082e51",
   "metadata": {},
   "outputs": [
    {
     "data": {
      "text/plain": [
       "0"
      ]
     },
     "execution_count": 7,
     "metadata": {},
     "output_type": "execute_result"
    }
   ],
   "source": [
    "df.duplicated().sum()"
   ]
  },
  {
   "cell_type": "markdown",
   "id": "7a9bab30",
   "metadata": {},
   "source": [
    "# Checking for null Value"
   ]
  },
  {
   "cell_type": "code",
   "execution_count": 9,
   "id": "e0e4c613",
   "metadata": {},
   "outputs": [
    {
     "data": {
      "text/plain": [
       "Unnamed: 0                0\n",
       "Gender                    0\n",
       "EthnicGroup            1840\n",
       "ParentEduc             1845\n",
       "LunchType                 0\n",
       "TestPrep               1830\n",
       "ParentMaritalStatus    1190\n",
       "PracticeSport           631\n",
       "IsFirstChild            904\n",
       "NrSiblings             1572\n",
       "TransportMeans         3134\n",
       "WklyStudyHours          955\n",
       "MathScore                 0\n",
       "ReadingScore              0\n",
       "WritingScore              0\n",
       "dtype: int64"
      ]
     },
     "execution_count": 9,
     "metadata": {},
     "output_type": "execute_result"
    }
   ],
   "source": [
    "df.isnull().sum()"
   ]
  },
  {
   "cell_type": "markdown",
   "id": "712b3118",
   "metadata": {},
   "source": [
    "# Imputing Null Values by filling the null values with most frequent values"
   ]
  },
  {
   "cell_type": "code",
   "execution_count": 11,
   "id": "eb76ea82",
   "metadata": {},
   "outputs": [
    {
     "name": "stdout",
     "output_type": "stream",
     "text": [
      "Congratulations! You have successfully imputed all the null values in the dataset.\n"
     ]
    }
   ],
   "source": [
    "df = df.apply(lambda x: x.fillna(x.value_counts().index[0]))\n",
    "null_val = df.isna().sum().sum()\n",
    "\n",
    "if null_val > 0:\n",
    "    print('Try imputing again, there are {} null values remaining in the dataset'.format(null_val))\n",
    "else:\n",
    "    print('Congratulations! You have successfully imputed all the null values in the dataset.')"
   ]
  },
  {
   "cell_type": "markdown",
   "id": "2ad2fd6c",
   "metadata": {},
   "source": [
    "# Drop Unnamed Columns"
   ]
  },
  {
   "cell_type": "code",
   "execution_count": 14,
   "id": "04ac79e2",
   "metadata": {},
   "outputs": [
    {
     "name": "stdout",
     "output_type": "stream",
     "text": [
      "   Gender EthnicGroup          ParentEduc     LunchType TestPrep  \\\n",
      "0  female     group C   bachelor's degree      standard     none   \n",
      "1  female     group C        some college      standard     none   \n",
      "2  female     group B     master's degree      standard     none   \n",
      "3    male     group A  associate's degree  free/reduced     none   \n",
      "4    male     group C        some college      standard     none   \n",
      "\n",
      "  ParentMaritalStatus PracticeSport IsFirstChild  NrSiblings TransportMeans  \\\n",
      "0             married     regularly          yes         3.0     school_bus   \n",
      "1             married     sometimes          yes         0.0     school_bus   \n",
      "2              single     sometimes          yes         4.0     school_bus   \n",
      "3             married         never           no         1.0     school_bus   \n",
      "4             married     sometimes          yes         0.0     school_bus   \n",
      "\n",
      "  WklyStudyHours  MathScore  ReadingScore  WritingScore  \n",
      "0            < 5         71            71            74  \n",
      "1         5 - 10         69            90            88  \n",
      "2            < 5         87            93            91  \n",
      "3         5 - 10         45            56            42  \n",
      "4         5 - 10         76            78            75  \n"
     ]
    }
   ],
   "source": [
    "df = df.drop(\"Unnamed: 0\", axis = 1)\n",
    "print(df.head())"
   ]
  },
  {
   "cell_type": "markdown",
   "id": "512f7fc6",
   "metadata": {},
   "source": [
    "# Changing Data Type"
   ]
  },
  {
   "cell_type": "code",
   "execution_count": 17,
   "id": "611d3ac6",
   "metadata": {},
   "outputs": [
    {
     "data": {
      "text/plain": [
       "Int64Dtype()"
      ]
     },
     "execution_count": 17,
     "metadata": {},
     "output_type": "execute_result"
    }
   ],
   "source": [
    "df['NrSiblings'] = df[\"NrSiblings\"].astype(pd.Int64Dtype())\n",
    "df[\"NrSiblings\"].dtypes"
   ]
  },
  {
   "cell_type": "markdown",
   "id": "206652fa",
   "metadata": {},
   "source": [
    "# Replacing wrong data"
   ]
  },
  {
   "cell_type": "code",
   "execution_count": 16,
   "id": "e4c0f011",
   "metadata": {},
   "outputs": [
    {
     "data": {
      "text/html": [
       "<div>\n",
       "<style scoped>\n",
       "    .dataframe tbody tr th:only-of-type {\n",
       "        vertical-align: middle;\n",
       "    }\n",
       "\n",
       "    .dataframe tbody tr th {\n",
       "        vertical-align: top;\n",
       "    }\n",
       "\n",
       "    .dataframe thead th {\n",
       "        text-align: right;\n",
       "    }\n",
       "</style>\n",
       "<table border=\"1\" class=\"dataframe\">\n",
       "  <thead>\n",
       "    <tr style=\"text-align: right;\">\n",
       "      <th></th>\n",
       "      <th>Gender</th>\n",
       "      <th>EthnicGroup</th>\n",
       "      <th>ParentEduc</th>\n",
       "      <th>LunchType</th>\n",
       "      <th>TestPrep</th>\n",
       "      <th>ParentMaritalStatus</th>\n",
       "      <th>PracticeSport</th>\n",
       "      <th>IsFirstChild</th>\n",
       "      <th>NrSiblings</th>\n",
       "      <th>TransportMeans</th>\n",
       "      <th>WklyStudyHours</th>\n",
       "      <th>MathScore</th>\n",
       "      <th>ReadingScore</th>\n",
       "      <th>WritingScore</th>\n",
       "    </tr>\n",
       "  </thead>\n",
       "  <tbody>\n",
       "    <tr>\n",
       "      <th>0</th>\n",
       "      <td>female</td>\n",
       "      <td>group C</td>\n",
       "      <td>bachelor's degree</td>\n",
       "      <td>standard</td>\n",
       "      <td>none</td>\n",
       "      <td>married</td>\n",
       "      <td>regularly</td>\n",
       "      <td>yes</td>\n",
       "      <td>3</td>\n",
       "      <td>school_bus</td>\n",
       "      <td>&lt; 5</td>\n",
       "      <td>71</td>\n",
       "      <td>71</td>\n",
       "      <td>74</td>\n",
       "    </tr>\n",
       "    <tr>\n",
       "      <th>1</th>\n",
       "      <td>female</td>\n",
       "      <td>group C</td>\n",
       "      <td>some college</td>\n",
       "      <td>standard</td>\n",
       "      <td>none</td>\n",
       "      <td>married</td>\n",
       "      <td>sometimes</td>\n",
       "      <td>yes</td>\n",
       "      <td>0</td>\n",
       "      <td>school_bus</td>\n",
       "      <td>5 - 10</td>\n",
       "      <td>69</td>\n",
       "      <td>90</td>\n",
       "      <td>88</td>\n",
       "    </tr>\n",
       "    <tr>\n",
       "      <th>2</th>\n",
       "      <td>female</td>\n",
       "      <td>group B</td>\n",
       "      <td>master's degree</td>\n",
       "      <td>standard</td>\n",
       "      <td>none</td>\n",
       "      <td>single</td>\n",
       "      <td>sometimes</td>\n",
       "      <td>yes</td>\n",
       "      <td>4</td>\n",
       "      <td>school_bus</td>\n",
       "      <td>&lt; 5</td>\n",
       "      <td>87</td>\n",
       "      <td>93</td>\n",
       "      <td>91</td>\n",
       "    </tr>\n",
       "    <tr>\n",
       "      <th>3</th>\n",
       "      <td>male</td>\n",
       "      <td>group A</td>\n",
       "      <td>associate's degree</td>\n",
       "      <td>free/reduced</td>\n",
       "      <td>none</td>\n",
       "      <td>married</td>\n",
       "      <td>never</td>\n",
       "      <td>no</td>\n",
       "      <td>1</td>\n",
       "      <td>school_bus</td>\n",
       "      <td>5 - 10</td>\n",
       "      <td>45</td>\n",
       "      <td>56</td>\n",
       "      <td>42</td>\n",
       "    </tr>\n",
       "    <tr>\n",
       "      <th>4</th>\n",
       "      <td>male</td>\n",
       "      <td>group C</td>\n",
       "      <td>some college</td>\n",
       "      <td>standard</td>\n",
       "      <td>none</td>\n",
       "      <td>married</td>\n",
       "      <td>sometimes</td>\n",
       "      <td>yes</td>\n",
       "      <td>0</td>\n",
       "      <td>school_bus</td>\n",
       "      <td>5 - 10</td>\n",
       "      <td>76</td>\n",
       "      <td>78</td>\n",
       "      <td>75</td>\n",
       "    </tr>\n",
       "  </tbody>\n",
       "</table>\n",
       "</div>"
      ],
      "text/plain": [
       "   Gender EthnicGroup          ParentEduc     LunchType TestPrep  \\\n",
       "0  female     group C   bachelor's degree      standard     none   \n",
       "1  female     group C        some college      standard     none   \n",
       "2  female     group B     master's degree      standard     none   \n",
       "3    male     group A  associate's degree  free/reduced     none   \n",
       "4    male     group C        some college      standard     none   \n",
       "\n",
       "  ParentMaritalStatus PracticeSport IsFirstChild  NrSiblings TransportMeans  \\\n",
       "0             married     regularly          yes           3     school_bus   \n",
       "1             married     sometimes          yes           0     school_bus   \n",
       "2              single     sometimes          yes           4     school_bus   \n",
       "3             married         never           no           1     school_bus   \n",
       "4             married     sometimes          yes           0     school_bus   \n",
       "\n",
       "  WklyStudyHours  MathScore  ReadingScore  WritingScore  \n",
       "0            < 5         71            71            74  \n",
       "1         5 - 10         69            90            88  \n",
       "2            < 5         87            93            91  \n",
       "3         5 - 10         45            56            42  \n",
       "4         5 - 10         76            78            75  "
      ]
     },
     "execution_count": 16,
     "metadata": {},
     "output_type": "execute_result"
    }
   ],
   "source": [
    "df[\"WklyStudyHours\"] = df[\"WklyStudyHours\"].str.replace(\"05-Oct\",\"5-10\")\n",
    "df.head()"
   ]
  },
  {
   "cell_type": "markdown",
   "id": "451d0336",
   "metadata": {},
   "source": [
    "# Gender Distribution"
   ]
  },
  {
   "cell_type": "code",
   "execution_count": 18,
   "id": "06d5d59b",
   "metadata": {},
   "outputs": [
    {
     "data": {
      "image/png": "[encoded data removed]",
      "text/plain": [
       "<Figure size 360x360 with 1 Axes>"
      ]
     },
     "metadata": {
      "needs_background": "light"
     },
     "output_type": "display_data"
    }
   ],
   "source": [
    "plt.figure(figsize=(5,5))\n",
    "ax=sns.countplot(data=df, x=\"Gender\")\n",
    "ax.bar_label(ax.containers[0])\n",
    "plt.title(\"Gender Distribution\")\n",
    "plt.show()"
   ]
  },
  {
   "cell_type": "markdown",
   "id": "5e6f5e40",
   "metadata": {},
   "source": [
    "# Student Scores by Gender"
   ]
  },
  {
   "cell_type": "code",
   "execution_count": 19,
   "id": "faa74fbb",
   "metadata": {
    "scrolled": true
   },
   "outputs": [
    {
     "data": {
      "image/png": "[encoded data removed]",
      "text/plain": [
       "<Figure size 360x360 with 2 Axes>"
      ]
     },
     "metadata": {
      "needs_background": "light"
     },
     "output_type": "display_data"
    }
   ],
   "source": [
    "gen = df.groupby(\"Gender\").agg({\"MathScore\":\"mean\",\"ReadingScore\":\"mean\",\"WritingScore\":\"mean\"})\n",
    "plt.figure(figsize=(5,5))\n",
    "sns.heatmap(gen, annot=True)\n",
    "plt.title(\"Student Scores by Gender\")\n",
    "plt.show()"
   ]
  },
  {
   "cell_type": "markdown",
   "id": "e74c0c29",
   "metadata": {},
   "source": [
    "# Relationship between Parent's Education & Student's Score"
   ]
  },
  {
   "cell_type": "code",
   "execution_count": 21,
   "id": "902cf1fc",
   "metadata": {},
   "outputs": [
    {
     "data": {
      "image/png": "[encoded data removed]",
      "text/plain": [
       "<Figure size 360x360 with 2 Axes>"
      ]
     },
     "metadata": {
      "needs_background": "light"
     },
     "output_type": "display_data"
    }
   ],
   "source": [
    "gb = df.groupby(\"ParentEduc\").agg({\"MathScore\":\"mean\",\"ReadingScore\":\"mean\",\"WritingScore\":\"mean\"})\n",
    "plt.figure(figsize=(5,5))\n",
    "sns.heatmap(gb, annot=True)\n",
    "plt.title(\"Relationship between Parent's Education & Student's Score\")\n",
    "plt.show()"
   ]
  },
  {
   "cell_type": "markdown",
   "id": "f5345133",
   "metadata": {},
   "source": [
    "# Parents Educational Background"
   ]
  },
  {
   "cell_type": "code",
   "execution_count": 20,
   "id": "850af80a",
   "metadata": {},
   "outputs": [
    {
     "data": {
      "image/png": "[encoded data removed]",
      "text/plain": [
       "<Figure size 432x288 with 1 Axes>"
      ]
     },
     "metadata": {
      "needs_background": "light"
     },
     "output_type": "display_data"
    }
   ],
   "source": [
    "ax = sns.countplot(data= df, x=\"ParentEduc\")\n",
    "plt.title(\"Parents Educational Background\")\n",
    "ax.bar_label(ax.containers[0])\n",
    "plt.xticks(rotation=45)\n",
    "plt.show()"
   ]
  },
  {
   "cell_type": "markdown",
   "id": "d0645c0c",
   "metadata": {},
   "source": [
    "# Impact of Parent Marital Status on Student Score"
   ]
  },
  {
   "cell_type": "code",
   "execution_count": 23,
   "id": "cfff9df6",
   "metadata": {},
   "outputs": [
    {
     "data": {
      "image/png": "[encoded data removed]",
      "text/plain": [
       "<Figure size 360x360 with 2 Axes>"
      ]
     },
     "metadata": {
      "needs_background": "light"
     },
     "output_type": "display_data"
    }
   ],
   "source": [
    "ms = df.groupby(\"ParentMaritalStatus\").agg({\"MathScore\":\"mean\",\"ReadingScore\":\"mean\",\"WritingScore\":\"mean\"})\n",
    "plt.figure(figsize=(5,5))\n",
    "sns.heatmap(ms, annot=True)\n",
    "plt.title(\"Impact of Parent Marital Status on Student Score\")\n",
    "plt.show()"
   ]
  },
  {
   "cell_type": "markdown",
   "id": "fa0f05cb",
   "metadata": {},
   "source": [
    "# Parents Marital Status"
   ]
  },
  {
   "cell_type": "code",
   "execution_count": 22,
   "id": "e17c846d",
   "metadata": {},
   "outputs": [
    {
     "data": {
      "image/png": "[encoded data removed]",
      "text/plain": [
       "<Figure size 432x288 with 1 Axes>"
      ]
     },
     "metadata": {
      "needs_background": "light"
     },
     "output_type": "display_data"
    }
   ],
   "source": [
    "ax = sns.countplot(data = df, x = \"ParentMaritalStatus\", order = [\"married\",\"single\",\"widowed\",\"divorced\"])\n",
    "plt.title(\"Parents Marital Status\")\n",
    "ax.bar_label(ax.containers[0])\n",
    "plt.show()"
   ]
  },
  {
   "cell_type": "markdown",
   "id": "02385292",
   "metadata": {},
   "source": [
    "# Number of Siblings"
   ]
  },
  {
   "cell_type": "code",
   "execution_count": 36,
   "id": "3ba8d26c",
   "metadata": {},
   "outputs": [
    {
     "data": {
      "image/png": "[encoded data removed]",
      "text/plain": [
       "<Figure size 432x288 with 1 Axes>"
      ]
     },
     "metadata": {
      "needs_background": "light"
     },
     "output_type": "display_data"
    }
   ],
   "source": [
    "ax = sns.countplot(data=df, x=\"NrSiblings\", order=[0,1,2,3,4,5,6,7])\n",
    "ax.bar_label(ax.containers[0])\n",
    "plt.title(\"Number of Siblings\")\n",
    "plt.show()"
   ]
  },
  {
   "cell_type": "markdown",
   "id": "8a30404a",
   "metadata": {},
   "source": [
    "# Impact of No. of Siblings on Student Scores"
   ]
  },
  {
   "cell_type": "code",
   "execution_count": 37,
   "id": "01096d24",
   "metadata": {},
   "outputs": [
    {
     "data": {
      "text/html": [
       "<style type=\"text/css\">\n",
       "#T_6c657_row0_col0 {\n",
       "  background-color: #f85d42;\n",
       "  color: #f1f1f1;\n",
       "}\n",
       "#T_6c657_row0_col1 {\n",
       "  background-color: #d11e1f;\n",
       "  color: #f1f1f1;\n",
       "}\n",
       "#T_6c657_row0_col2 {\n",
       "  background-color: #bf151b;\n",
       "  color: #f1f1f1;\n",
       "}\n",
       "#T_6c657_row1_col0 {\n",
       "  background-color: #fca689;\n",
       "  color: #000000;\n",
       "}\n",
       "#T_6c657_row1_col1 {\n",
       "  background-color: #fb7d5d;\n",
       "  color: #f1f1f1;\n",
       "}\n",
       "#T_6c657_row1_col2 {\n",
       "  background-color: #fca588;\n",
       "  color: #000000;\n",
       "}\n",
       "#T_6c657_row2_col0 {\n",
       "  background-color: #fc9272;\n",
       "  color: #000000;\n",
       "}\n",
       "#T_6c657_row2_col1 {\n",
       "  background-color: #e63328;\n",
       "  color: #f1f1f1;\n",
       "}\n",
       "#T_6c657_row2_col2 {\n",
       "  background-color: #f34935;\n",
       "  color: #f1f1f1;\n",
       "}\n",
       "#T_6c657_row3_col0 {\n",
       "  background-color: #fb7353;\n",
       "  color: #f1f1f1;\n",
       "}\n",
       "#T_6c657_row3_col1 {\n",
       "  background-color: #e22e27;\n",
       "  color: #f1f1f1;\n",
       "}\n",
       "#T_6c657_row3_col2 {\n",
       "  background-color: #d92523;\n",
       "  color: #f1f1f1;\n",
       "}\n",
       "#T_6c657_row4_col0 {\n",
       "  background-color: #fdccb8;\n",
       "  color: #000000;\n",
       "}\n",
       "#T_6c657_row4_col1 {\n",
       "  background-color: #fca082;\n",
       "  color: #000000;\n",
       "}\n",
       "#T_6c657_row4_col2 {\n",
       "  background-color: #fdcdb9;\n",
       "  color: #000000;\n",
       "}\n",
       "#T_6c657_row5_col0 {\n",
       "  background-color: #fc8464;\n",
       "  color: #f1f1f1;\n",
       "}\n",
       "#T_6c657_row5_col1 {\n",
       "  background-color: #ec382b;\n",
       "  color: #f1f1f1;\n",
       "}\n",
       "#T_6c657_row5_col2 {\n",
       "  background-color: #fc9373;\n",
       "  color: #000000;\n",
       "}\n",
       "#T_6c657_row6_col0, #T_6c657_row6_col1, #T_6c657_row6_col2 {\n",
       "  background-color: #fff5f0;\n",
       "  color: #000000;\n",
       "}\n",
       "#T_6c657_row7_col0, #T_6c657_row7_col1, #T_6c657_row7_col2 {\n",
       "  background-color: #67000d;\n",
       "  color: #f1f1f1;\n",
       "}\n",
       "</style>\n",
       "<table id=\"T_6c657\">\n",
       "  <thead>\n",
       "    <tr>\n",
       "      <th class=\"blank level0\" >&nbsp;</th>\n",
       "      <th id=\"T_6c657_level0_col0\" class=\"col_heading level0 col0\" >MathScore</th>\n",
       "      <th id=\"T_6c657_level0_col1\" class=\"col_heading level0 col1\" >ReadingScore</th>\n",
       "      <th id=\"T_6c657_level0_col2\" class=\"col_heading level0 col2\" >WritingScore</th>\n",
       "    </tr>\n",
       "    <tr>\n",
       "      <th class=\"index_name level0\" >NrSiblings</th>\n",
       "      <th class=\"blank col0\" >&nbsp;</th>\n",
       "      <th class=\"blank col1\" >&nbsp;</th>\n",
       "      <th class=\"blank col2\" >&nbsp;</th>\n",
       "    </tr>\n",
       "  </thead>\n",
       "  <tbody>\n",
       "    <tr>\n",
       "      <th id=\"T_6c657_level0_row0\" class=\"row_heading level0 row0\" >0</th>\n",
       "      <td id=\"T_6c657_row0_col0\" class=\"data row0 col0\" >66.819449</td>\n",
       "      <td id=\"T_6c657_row0_col1\" class=\"data row0 col1\" >69.547812</td>\n",
       "      <td id=\"T_6c657_row0_col2\" class=\"data row0 col2\" >68.746515</td>\n",
       "    </tr>\n",
       "    <tr>\n",
       "      <th id=\"T_6c657_level0_row1\" class=\"row_heading level0 row1\" >1</th>\n",
       "      <td id=\"T_6c657_row1_col0\" class=\"data row1 col0\" >66.450710</td>\n",
       "      <td id=\"T_6c657_row1_col1\" class=\"data row1 col1\" >69.253346</td>\n",
       "      <td id=\"T_6c657_row1_col2\" class=\"data row1 col2\" >68.220554</td>\n",
       "    </tr>\n",
       "    <tr>\n",
       "      <th id=\"T_6c657_level0_row2\" class=\"row_heading level0 row2\" >2</th>\n",
       "      <td id=\"T_6c657_row2_col0\" class=\"data row2 col0\" >66.554934</td>\n",
       "      <td id=\"T_6c657_row2_col1\" class=\"data row2 col1\" >69.472018</td>\n",
       "      <td id=\"T_6c657_row2_col2\" class=\"data row2 col2\" >68.522533</td>\n",
       "    </tr>\n",
       "    <tr>\n",
       "      <th id=\"T_6c657_level0_row3\" class=\"row_heading level0 row3\" >3</th>\n",
       "      <td id=\"T_6c657_row3_col0\" class=\"data row3 col0\" >66.719092</td>\n",
       "      <td id=\"T_6c657_row3_col1\" class=\"data row3 col1\" >69.488159</td>\n",
       "      <td id=\"T_6c657_row3_col2\" class=\"data row3 col2\" >68.650498</td>\n",
       "    </tr>\n",
       "    <tr>\n",
       "      <th id=\"T_6c657_level0_row4\" class=\"row_heading level0 row4\" >4</th>\n",
       "      <td id=\"T_6c657_row4_col0\" class=\"data row4 col0\" >66.245495</td>\n",
       "      <td id=\"T_6c657_row4_col1\" class=\"data row4 col1\" >69.144169</td>\n",
       "      <td id=\"T_6c657_row4_col2\" class=\"data row4 col2\" >68.073444</td>\n",
       "    </tr>\n",
       "    <tr>\n",
       "      <th id=\"T_6c657_level0_row5\" class=\"row_heading level0 row5\" >5</th>\n",
       "      <td id=\"T_6c657_row5_col0\" class=\"data row5 col0\" >66.630303</td>\n",
       "      <td id=\"T_6c657_row5_col1\" class=\"data row5 col1\" >69.453788</td>\n",
       "      <td id=\"T_6c657_row5_col2\" class=\"data row5 col2\" >68.282576</td>\n",
       "    </tr>\n",
       "    <tr>\n",
       "      <th id=\"T_6c657_level0_row6\" class=\"row_heading level0 row6\" >6</th>\n",
       "      <td id=\"T_6c657_row6_col0\" class=\"data row6 col0\" >65.917219</td>\n",
       "      <td id=\"T_6c657_row6_col1\" class=\"data row6 col1\" >68.801325</td>\n",
       "      <td id=\"T_6c657_row6_col2\" class=\"data row6 col2\" >67.860927</td>\n",
       "    </tr>\n",
       "    <tr>\n",
       "      <th id=\"T_6c657_level0_row7\" class=\"row_heading level0 row7\" >7</th>\n",
       "      <td id=\"T_6c657_row7_col0\" class=\"data row7 col0\" >67.615120</td>\n",
       "      <td id=\"T_6c657_row7_col1\" class=\"data row7 col1\" >69.828179</td>\n",
       "      <td id=\"T_6c657_row7_col2\" class=\"data row7 col2\" >68.986254</td>\n",
       "    </tr>\n",
       "  </tbody>\n",
       "</table>\n"
      ],
      "text/plain": [
       "<pandas.io.formats.style.Styler at 0x11706148>"
      ]
     },
     "execution_count": 37,
     "metadata": {},
     "output_type": "execute_result"
    }
   ],
   "source": [
    "df.groupby(\"NrSiblings\").agg({\"MathScore\":\"mean\",\"ReadingScore\":\"mean\",\"WritingScore\":\"mean\"}).style.background_gradient(cmap='Reds')"
   ]
  },
  {
   "cell_type": "markdown",
   "id": "8a201deb",
   "metadata": {},
   "source": [
    "# Impact of Study Hours, Sports & Gender  on Scores"
   ]
  },
  {
   "cell_type": "code",
   "execution_count": 32,
   "id": "58fc5524",
   "metadata": {},
   "outputs": [
    {
     "data": {
      "image/png": "[encoded data removed]",
      "text/plain": [
       "<Figure size 432x288 with 1 Axes>"
      ]
     },
     "metadata": {
      "needs_background": "light"
     },
     "output_type": "display_data"
    }
   ],
   "source": [
    "ax = sns.countplot(data=df,x=\"PracticeSport\")\n",
    "ax.bar_label(ax.containers[0])\n",
    "plt.show()"
   ]
  },
  {
   "cell_type": "code",
   "execution_count": 33,
   "id": "132fbce0",
   "metadata": {},
   "outputs": [
    {
     "data": {
      "text/html": [
       "<style type=\"text/css\">\n",
       "#T_c7f67_row0_col0, #T_c7f67_row0_col1, #T_c7f67_row0_col2 {\n",
       "  background-color: #fcfbfd;\n",
       "  color: #000000;\n",
       "}\n",
       "#T_c7f67_row1_col0, #T_c7f67_row1_col1, #T_c7f67_row1_col2 {\n",
       "  background-color: #3f007d;\n",
       "  color: #f1f1f1;\n",
       "}\n",
       "#T_c7f67_row2_col0 {\n",
       "  background-color: #8c88bf;\n",
       "  color: #f1f1f1;\n",
       "}\n",
       "#T_c7f67_row2_col1 {\n",
       "  background-color: #8d89c0;\n",
       "  color: #f1f1f1;\n",
       "}\n",
       "#T_c7f67_row2_col2 {\n",
       "  background-color: #9c98c7;\n",
       "  color: #f1f1f1;\n",
       "}\n",
       "</style>\n",
       "<table id=\"T_c7f67\">\n",
       "  <thead>\n",
       "    <tr>\n",
       "      <th class=\"blank level0\" >&nbsp;</th>\n",
       "      <th id=\"T_c7f67_level0_col0\" class=\"col_heading level0 col0\" >MathScore</th>\n",
       "      <th id=\"T_c7f67_level0_col1\" class=\"col_heading level0 col1\" >ReadingScore</th>\n",
       "      <th id=\"T_c7f67_level0_col2\" class=\"col_heading level0 col2\" >WritingScore</th>\n",
       "    </tr>\n",
       "    <tr>\n",
       "      <th class=\"index_name level0\" >PracticeSport</th>\n",
       "      <th class=\"blank col0\" >&nbsp;</th>\n",
       "      <th class=\"blank col1\" >&nbsp;</th>\n",
       "      <th class=\"blank col2\" >&nbsp;</th>\n",
       "    </tr>\n",
       "  </thead>\n",
       "  <tbody>\n",
       "    <tr>\n",
       "      <th id=\"T_c7f67_level0_row0\" class=\"row_heading level0 row0\" >never</th>\n",
       "      <td id=\"T_c7f67_row0_col0\" class=\"data row0 col0\" >64.171079</td>\n",
       "      <td id=\"T_c7f67_row0_col1\" class=\"data row0 col1\" >68.337662</td>\n",
       "      <td id=\"T_c7f67_row0_col2\" class=\"data row0 col2\" >66.522727</td>\n",
       "    </tr>\n",
       "    <tr>\n",
       "      <th id=\"T_c7f67_level0_row1\" class=\"row_heading level0 row1\" >regularly</th>\n",
       "      <td id=\"T_c7f67_row1_col0\" class=\"data row1 col0\" >67.839155</td>\n",
       "      <td id=\"T_c7f67_row1_col1\" class=\"data row1 col1\" >69.943019</td>\n",
       "      <td id=\"T_c7f67_row1_col2\" class=\"data row1 col2\" >69.604003</td>\n",
       "    </tr>\n",
       "    <tr>\n",
       "      <th id=\"T_c7f67_level0_row2\" class=\"row_heading level0 row2\" >sometimes</th>\n",
       "      <td id=\"T_c7f67_row2_col0\" class=\"data row2 col0\" >66.289258</td>\n",
       "      <td id=\"T_c7f67_row2_col1\" class=\"data row2 col1\" >69.255112</td>\n",
       "      <td id=\"T_c7f67_row2_col2\" class=\"data row2 col2\" >68.090255</td>\n",
       "    </tr>\n",
       "  </tbody>\n",
       "</table>\n"
      ],
      "text/plain": [
       "<pandas.io.formats.style.Styler at 0x116dd220>"
      ]
     },
     "execution_count": 33,
     "metadata": {},
     "output_type": "execute_result"
    }
   ],
   "source": [
    "df.groupby(\"PracticeSport\").agg({\"MathScore\":\"mean\",\"ReadingScore\":\"mean\",\"WritingScore\":\"mean\"}).style.background_gradient(cmap=\"Purples\")"
   ]
  },
  {
   "cell_type": "code",
   "execution_count": 34,
   "id": "34a94ddc",
   "metadata": {},
   "outputs": [
    {
     "data": {
      "text/html": [
       "<style type=\"text/css\">\n",
       "#T_bd88e_row0_col0, #T_bd88e_row1_col1, #T_bd88e_row1_col2 {\n",
       "  background-color: #fcfbfd;\n",
       "  color: #000000;\n",
       "}\n",
       "#T_bd88e_row0_col1 {\n",
       "  background-color: #5f3c99;\n",
       "  color: #f1f1f1;\n",
       "}\n",
       "#T_bd88e_row0_col2 {\n",
       "  background-color: #6a51a3;\n",
       "  color: #f1f1f1;\n",
       "}\n",
       "#T_bd88e_row1_col0 {\n",
       "  background-color: #9995c6;\n",
       "  color: #f1f1f1;\n",
       "}\n",
       "#T_bd88e_row2_col0 {\n",
       "  background-color: #b8b8d9;\n",
       "  color: #000000;\n",
       "}\n",
       "#T_bd88e_row2_col1, #T_bd88e_row2_col2, #T_bd88e_row3_col0 {\n",
       "  background-color: #3f007d;\n",
       "  color: #f1f1f1;\n",
       "}\n",
       "#T_bd88e_row3_col1 {\n",
       "  background-color: #e6e5f1;\n",
       "  color: #000000;\n",
       "}\n",
       "#T_bd88e_row3_col2 {\n",
       "  background-color: #d8d8ea;\n",
       "  color: #000000;\n",
       "}\n",
       "#T_bd88e_row4_col0 {\n",
       "  background-color: #e0e0ee;\n",
       "  color: #000000;\n",
       "}\n",
       "#T_bd88e_row4_col1 {\n",
       "  background-color: #4c1888;\n",
       "  color: #f1f1f1;\n",
       "}\n",
       "#T_bd88e_row4_col2 {\n",
       "  background-color: #53258e;\n",
       "  color: #f1f1f1;\n",
       "}\n",
       "#T_bd88e_row5_col0 {\n",
       "  background-color: #603e9a;\n",
       "  color: #f1f1f1;\n",
       "}\n",
       "#T_bd88e_row5_col1 {\n",
       "  background-color: #f1eff6;\n",
       "  color: #000000;\n",
       "}\n",
       "#T_bd88e_row5_col2 {\n",
       "  background-color: #eeecf4;\n",
       "  color: #000000;\n",
       "}\n",
       "</style>\n",
       "<table id=\"T_bd88e\">\n",
       "  <thead>\n",
       "    <tr>\n",
       "      <th class=\"blank\" >&nbsp;</th>\n",
       "      <th class=\"blank level0\" >&nbsp;</th>\n",
       "      <th id=\"T_bd88e_level0_col0\" class=\"col_heading level0 col0\" >MathScore</th>\n",
       "      <th id=\"T_bd88e_level0_col1\" class=\"col_heading level0 col1\" >ReadingScore</th>\n",
       "      <th id=\"T_bd88e_level0_col2\" class=\"col_heading level0 col2\" >WritingScore</th>\n",
       "    </tr>\n",
       "    <tr>\n",
       "      <th class=\"index_name level0\" >PracticeSport</th>\n",
       "      <th class=\"index_name level1\" >Gender</th>\n",
       "      <th class=\"blank col0\" >&nbsp;</th>\n",
       "      <th class=\"blank col1\" >&nbsp;</th>\n",
       "      <th class=\"blank col2\" >&nbsp;</th>\n",
       "    </tr>\n",
       "  </thead>\n",
       "  <tbody>\n",
       "    <tr>\n",
       "      <th id=\"T_bd88e_level0_row0\" class=\"row_heading level0 row0\" rowspan=\"2\">never</th>\n",
       "      <th id=\"T_bd88e_level1_row0\" class=\"row_heading level1 row0\" >female</th>\n",
       "      <td id=\"T_bd88e_row0_col0\" class=\"data row0 col0\" >61.979208</td>\n",
       "      <td id=\"T_bd88e_row0_col1\" class=\"data row0 col1\" >71.805941</td>\n",
       "      <td id=\"T_bd88e_row0_col2\" class=\"data row0 col2\" >70.983663</td>\n",
       "    </tr>\n",
       "    <tr>\n",
       "      <th id=\"T_bd88e_level1_row1\" class=\"row_heading level1 row1\" >male</th>\n",
       "      <td id=\"T_bd88e_row1_col0\" class=\"data row1 col0\" >66.402722</td>\n",
       "      <td id=\"T_bd88e_row1_col1\" class=\"data row1 col1\" >64.806452</td>\n",
       "      <td id=\"T_bd88e_row1_col2\" class=\"data row1 col2\" >61.980847</td>\n",
       "    </tr>\n",
       "    <tr>\n",
       "      <th id=\"T_bd88e_level0_row2\" class=\"row_heading level0 row2\" rowspan=\"2\">regularly</th>\n",
       "      <th id=\"T_bd88e_level1_row2\" class=\"row_heading level1 row2\" >female</th>\n",
       "      <td id=\"T_bd88e_row2_col0\" class=\"data row2 col0\" >65.297035</td>\n",
       "      <td id=\"T_bd88e_row2_col1\" class=\"data row2 col1\" >73.428624</td>\n",
       "      <td id=\"T_bd88e_row2_col2\" class=\"data row2 col2\" >73.994510</td>\n",
       "    </tr>\n",
       "    <tr>\n",
       "      <th id=\"T_bd88e_level1_row3\" class=\"row_heading level1 row3\" >male</th>\n",
       "      <td id=\"T_bd88e_row3_col0\" class=\"data row3 col0\" >70.445675</td>\n",
       "      <td id=\"T_bd88e_row3_col1\" class=\"data row3 col1\" >66.369112</td>\n",
       "      <td id=\"T_bd88e_row3_col2\" class=\"data row3 col2\" >65.102271</td>\n",
       "    </tr>\n",
       "    <tr>\n",
       "      <th id=\"T_bd88e_level0_row4\" class=\"row_heading level0 row4\" rowspan=\"2\">sometimes</th>\n",
       "      <th id=\"T_bd88e_level1_row4\" class=\"row_heading level1 row4\" >female</th>\n",
       "      <td id=\"T_bd88e_row4_col0\" class=\"data row4 col0\" >63.778212</td>\n",
       "      <td id=\"T_bd88e_row4_col1\" class=\"data row4 col1\" >72.723678</td>\n",
       "      <td id=\"T_bd88e_row4_col2\" class=\"data row4 col2\" >72.549748</td>\n",
       "    </tr>\n",
       "    <tr>\n",
       "      <th id=\"T_bd88e_level1_row5\" class=\"row_heading level1 row5\" >male</th>\n",
       "      <td id=\"T_bd88e_row5_col0\" class=\"data row5 col0\" >68.811741</td>\n",
       "      <td id=\"T_bd88e_row5_col1\" class=\"data row5 col1\" >65.770749</td>\n",
       "      <td id=\"T_bd88e_row5_col2\" class=\"data row5 col2\" >63.610450</td>\n",
       "    </tr>\n",
       "  </tbody>\n",
       "</table>\n"
      ],
      "text/plain": [
       "<pandas.io.formats.style.Styler at 0x6515490>"
      ]
     },
     "execution_count": 34,
     "metadata": {},
     "output_type": "execute_result"
    }
   ],
   "source": [
    "df.groupby([\"PracticeSport\",\"Gender\"]).agg({\"MathScore\":\"mean\",\"ReadingScore\":\"mean\",\"WritingScore\":\"mean\"}).style.background_gradient(cmap=\"Purples\")"
   ]
  },
  {
   "cell_type": "code",
   "execution_count": 28,
   "id": "02178238",
   "metadata": {},
   "outputs": [
    {
     "data": {
      "image/png": "[encoded data removed]",
      "text/plain": [
       "<Figure size 432x288 with 1 Axes>"
      ]
     },
     "metadata": {
      "needs_background": "light"
     },
     "output_type": "display_data"
    }
   ],
   "source": [
    "ax = sns.countplot(data = df, x = \"WklyStudyHours\")\n",
    "ax.bar_label(ax.containers[0])\n",
    "plt.title(\"Weekly Study Hours\")\n",
    "plt.show()"
   ]
  },
  {
   "cell_type": "code",
   "execution_count": 29,
   "id": "c686ee77",
   "metadata": {},
   "outputs": [
    {
     "data": {
      "text/html": [
       "<style type=\"text/css\">\n",
       "#T_70f48_row0_col0 {\n",
       "  background-color: #d4d4e8;\n",
       "  color: #000000;\n",
       "}\n",
       "#T_70f48_row0_col1 {\n",
       "  background-color: #481084;\n",
       "  color: #f1f1f1;\n",
       "}\n",
       "#T_70f48_row0_col2 {\n",
       "  background-color: #4c1888;\n",
       "  color: #f1f1f1;\n",
       "}\n",
       "#T_70f48_row1_col0 {\n",
       "  background-color: #66499f;\n",
       "  color: #f1f1f1;\n",
       "}\n",
       "#T_70f48_row1_col1 {\n",
       "  background-color: #efedf5;\n",
       "  color: #000000;\n",
       "}\n",
       "#T_70f48_row1_col2 {\n",
       "  background-color: #f1f0f6;\n",
       "  color: #000000;\n",
       "}\n",
       "#T_70f48_row2_col0, #T_70f48_row3_col1, #T_70f48_row3_col2 {\n",
       "  background-color: #fcfbfd;\n",
       "  color: #000000;\n",
       "}\n",
       "#T_70f48_row2_col1 {\n",
       "  background-color: #6a51a3;\n",
       "  color: #f1f1f1;\n",
       "}\n",
       "#T_70f48_row2_col2 {\n",
       "  background-color: #684da1;\n",
       "  color: #f1f1f1;\n",
       "}\n",
       "#T_70f48_row3_col0 {\n",
       "  background-color: #8f8cc1;\n",
       "  color: #f1f1f1;\n",
       "}\n",
       "#T_70f48_row4_col0 {\n",
       "  background-color: #afaed4;\n",
       "  color: #000000;\n",
       "}\n",
       "#T_70f48_row4_col1, #T_70f48_row4_col2, #T_70f48_row5_col0 {\n",
       "  background-color: #3f007d;\n",
       "  color: #f1f1f1;\n",
       "}\n",
       "#T_70f48_row5_col1 {\n",
       "  background-color: #dadaeb;\n",
       "  color: #000000;\n",
       "}\n",
       "#T_70f48_row5_col2 {\n",
       "  background-color: #dcdcec;\n",
       "  color: #000000;\n",
       "}\n",
       "</style>\n",
       "<table id=\"T_70f48\">\n",
       "  <thead>\n",
       "    <tr>\n",
       "      <th class=\"blank\" >&nbsp;</th>\n",
       "      <th class=\"blank level0\" >&nbsp;</th>\n",
       "      <th id=\"T_70f48_level0_col0\" class=\"col_heading level0 col0\" >MathScore</th>\n",
       "      <th id=\"T_70f48_level0_col1\" class=\"col_heading level0 col1\" >ReadingScore</th>\n",
       "      <th id=\"T_70f48_level0_col2\" class=\"col_heading level0 col2\" >WritingScore</th>\n",
       "    </tr>\n",
       "    <tr>\n",
       "      <th class=\"index_name level0\" >WklyStudyHours</th>\n",
       "      <th class=\"index_name level1\" >Gender</th>\n",
       "      <th class=\"blank col0\" >&nbsp;</th>\n",
       "      <th class=\"blank col1\" >&nbsp;</th>\n",
       "      <th class=\"blank col2\" >&nbsp;</th>\n",
       "    </tr>\n",
       "  </thead>\n",
       "  <tbody>\n",
       "    <tr>\n",
       "      <th id=\"T_70f48_level0_row0\" class=\"row_heading level0 row0\" rowspan=\"2\">5 - 10</th>\n",
       "      <th id=\"T_70f48_level1_row0\" class=\"row_heading level1 row0\" >female</th>\n",
       "      <td id=\"T_70f48_row0_col0\" class=\"data row0 col0\" >64.535095</td>\n",
       "      <td id=\"T_70f48_row0_col1\" class=\"data row0 col1\" >73.243079</td>\n",
       "      <td id=\"T_70f48_row0_col2\" class=\"data row0 col2\" >73.193337</td>\n",
       "    </tr>\n",
       "    <tr>\n",
       "      <th id=\"T_70f48_level1_row1\" class=\"row_heading level1 row1\" >male</th>\n",
       "      <td id=\"T_70f48_row1_col0\" class=\"data row1 col0\" >69.240231</td>\n",
       "      <td id=\"T_70f48_row1_col1\" class=\"data row1 col1\" >65.976930</td>\n",
       "      <td id=\"T_70f48_row1_col2\" class=\"data row1 col2\" >63.982345</td>\n",
       "    </tr>\n",
       "    <tr>\n",
       "      <th id=\"T_70f48_level0_row2\" class=\"row_heading level0 row2\" rowspan=\"2\">< 5</th>\n",
       "      <th id=\"T_70f48_level1_row2\" class=\"row_heading level1 row2\" >female</th>\n",
       "      <td id=\"T_70f48_row2_col0\" class=\"data row2 col0\" >61.930199</td>\n",
       "      <td id=\"T_70f48_row2_col1\" class=\"data row2 col1\" >71.492971</td>\n",
       "      <td id=\"T_70f48_row2_col2\" class=\"data row2 col2\" >71.366457</td>\n",
       "    </tr>\n",
       "    <tr>\n",
       "      <th id=\"T_70f48_level1_row3\" class=\"row_heading level1 row3\" >male</th>\n",
       "      <td id=\"T_70f48_row3_col0\" class=\"data row3 col0\" >67.239543</td>\n",
       "      <td id=\"T_70f48_row3_col1\" class=\"data row3 col1\" >64.848006</td>\n",
       "      <td id=\"T_70f48_row3_col2\" class=\"data row3 col2\" >62.799368</td>\n",
       "    </tr>\n",
       "    <tr>\n",
       "      <th id=\"T_70f48_level0_row4\" class=\"row_heading level0 row4\" rowspan=\"2\">> 10</th>\n",
       "      <th id=\"T_70f48_level1_row4\" class=\"row_heading level1 row4\" >female</th>\n",
       "      <td id=\"T_70f48_row4_col0\" class=\"data row4 col0\" >65.976861</td>\n",
       "      <td id=\"T_70f48_row4_col1\" class=\"data row4 col1\" >73.708831</td>\n",
       "      <td id=\"T_70f48_row4_col2\" class=\"data row4 col2\" >74.096413</td>\n",
       "    </tr>\n",
       "    <tr>\n",
       "      <th id=\"T_70f48_level1_row5\" class=\"row_heading level1 row5\" >male</th>\n",
       "      <td id=\"T_70f48_row5_col0\" class=\"data row5 col0\" >71.399770</td>\n",
       "      <td id=\"T_70f48_row5_col1\" class=\"data row5 col1\" >67.042545</td>\n",
       "      <td id=\"T_70f48_row5_col2\" class=\"data row5 col2\" >65.485627</td>\n",
       "    </tr>\n",
       "  </tbody>\n",
       "</table>\n"
      ],
      "text/plain": [
       "<pandas.io.formats.style.Styler at 0x1157b6a0>"
      ]
     },
     "execution_count": 29,
     "metadata": {},
     "output_type": "execute_result"
    }
   ],
   "source": [
    "df.groupby([\"WklyStudyHours\",\"Gender\"]).agg({\"MathScore\":\"mean\",\"ReadingScore\":\"mean\",\"WritingScore\":\"mean\"}).style.background_gradient(cmap=\"Purples\")"
   ]
  },
  {
   "cell_type": "markdown",
   "id": "eddfb02a",
   "metadata": {},
   "source": [
    "# Impact of Test Preparation on Score"
   ]
  },
  {
   "cell_type": "code",
   "execution_count": 43,
   "id": "5e488460",
   "metadata": {},
   "outputs": [
    {
     "data": {
      "image/png": "[encoded data removed]",
      "text/plain": [
       "<Figure size 432x288 with 1 Axes>"
      ]
     },
     "metadata": {
      "needs_background": "light"
     },
     "output_type": "display_data"
    }
   ],
   "source": [
    "tp=sns.countplot(data=df, x=\"TestPrep\")\n",
    "tp.bar_label(tp.containers[0])\n",
    "plt.show()"
   ]
  },
  {
   "cell_type": "code",
   "execution_count": 30,
   "id": "c4d6780d",
   "metadata": {},
   "outputs": [
    {
     "data": {
      "text/html": [
       "<style type=\"text/css\">\n",
       "#T_bb3a1_row0_col0, #T_bb3a1_row0_col1, #T_bb3a1_row0_col2 {\n",
       "  background-color: #08306b;\n",
       "  color: #f1f1f1;\n",
       "}\n",
       "#T_bb3a1_row1_col0, #T_bb3a1_row1_col1, #T_bb3a1_row1_col2 {\n",
       "  background-color: #f7fbff;\n",
       "  color: #000000;\n",
       "}\n",
       "</style>\n",
       "<table id=\"T_bb3a1\">\n",
       "  <thead>\n",
       "    <tr>\n",
       "      <th class=\"blank level0\" >&nbsp;</th>\n",
       "      <th id=\"T_bb3a1_level0_col0\" class=\"col_heading level0 col0\" >MathScore</th>\n",
       "      <th id=\"T_bb3a1_level0_col1\" class=\"col_heading level0 col1\" >ReadingScore</th>\n",
       "      <th id=\"T_bb3a1_level0_col2\" class=\"col_heading level0 col2\" >WritingScore</th>\n",
       "    </tr>\n",
       "    <tr>\n",
       "      <th class=\"index_name level0\" >TestPrep</th>\n",
       "      <th class=\"blank col0\" >&nbsp;</th>\n",
       "      <th class=\"blank col1\" >&nbsp;</th>\n",
       "      <th class=\"blank col2\" >&nbsp;</th>\n",
       "    </tr>\n",
       "  </thead>\n",
       "  <tbody>\n",
       "    <tr>\n",
       "      <th id=\"T_bb3a1_level0_row0\" class=\"row_heading level0 row0\" >completed</th>\n",
       "      <td id=\"T_bb3a1_row0_col0\" class=\"data row0 col0\" >69.546660</td>\n",
       "      <td id=\"T_bb3a1_row0_col1\" class=\"data row0 col1\" >73.732998</td>\n",
       "      <td id=\"T_bb3a1_row0_col2\" class=\"data row0 col2\" >74.703265</td>\n",
       "    </tr>\n",
       "    <tr>\n",
       "      <th id=\"T_bb3a1_level0_row1\" class=\"row_heading level0 row1\" >none</th>\n",
       "      <td id=\"T_bb3a1_row1_col0\" class=\"data row1 col0\" >65.120323</td>\n",
       "      <td id=\"T_bb3a1_row1_col1\" class=\"data row1 col1\" >67.281495</td>\n",
       "      <td id=\"T_bb3a1_row1_col2\" class=\"data row1 col2\" >65.394180</td>\n",
       "    </tr>\n",
       "  </tbody>\n",
       "</table>\n"
      ],
      "text/plain": [
       "<pandas.io.formats.style.Styler at 0x1021ce80>"
      ]
     },
     "execution_count": 30,
     "metadata": {},
     "output_type": "execute_result"
    }
   ],
   "source": [
    "df.groupby(\"TestPrep\").agg({\"MathScore\":\"mean\",\"ReadingScore\":\"mean\",\"WritingScore\":\"mean\"}).style.background_gradient(cmap=\"Blues\")"
   ]
  },
  {
   "cell_type": "code",
   "execution_count": 31,
   "id": "478c80ff",
   "metadata": {},
   "outputs": [
    {
     "data": {
      "text/html": [
       "<style type=\"text/css\">\n",
       "#T_cd32f_row0_col0 {\n",
       "  background-color: #81badb;\n",
       "  color: #000000;\n",
       "}\n",
       "#T_cd32f_row0_col1, #T_cd32f_row0_col2, #T_cd32f_row2_col0 {\n",
       "  background-color: #08306b;\n",
       "  color: #f1f1f1;\n",
       "}\n",
       "#T_cd32f_row1_col0, #T_cd32f_row3_col1, #T_cd32f_row3_col2 {\n",
       "  background-color: #f7fbff;\n",
       "  color: #000000;\n",
       "}\n",
       "#T_cd32f_row1_col1 {\n",
       "  background-color: #5fa6d1;\n",
       "  color: #f1f1f1;\n",
       "}\n",
       "#T_cd32f_row1_col2 {\n",
       "  background-color: #69add5;\n",
       "  color: #f1f1f1;\n",
       "}\n",
       "#T_cd32f_row2_col1 {\n",
       "  background-color: #6aaed6;\n",
       "  color: #f1f1f1;\n",
       "}\n",
       "#T_cd32f_row2_col2 {\n",
       "  background-color: #60a7d2;\n",
       "  color: #f1f1f1;\n",
       "}\n",
       "#T_cd32f_row3_col0 {\n",
       "  background-color: #68acd5;\n",
       "  color: #f1f1f1;\n",
       "}\n",
       "</style>\n",
       "<table id=\"T_cd32f\">\n",
       "  <thead>\n",
       "    <tr>\n",
       "      <th class=\"blank\" >&nbsp;</th>\n",
       "      <th class=\"blank level0\" >&nbsp;</th>\n",
       "      <th id=\"T_cd32f_level0_col0\" class=\"col_heading level0 col0\" >MathScore</th>\n",
       "      <th id=\"T_cd32f_level0_col1\" class=\"col_heading level0 col1\" >ReadingScore</th>\n",
       "      <th id=\"T_cd32f_level0_col2\" class=\"col_heading level0 col2\" >WritingScore</th>\n",
       "    </tr>\n",
       "    <tr>\n",
       "      <th class=\"index_name level0\" >Gender</th>\n",
       "      <th class=\"index_name level1\" >TestPrep</th>\n",
       "      <th class=\"blank col0\" >&nbsp;</th>\n",
       "      <th class=\"blank col1\" >&nbsp;</th>\n",
       "      <th class=\"blank col2\" >&nbsp;</th>\n",
       "    </tr>\n",
       "  </thead>\n",
       "  <tbody>\n",
       "    <tr>\n",
       "      <th id=\"T_cd32f_level0_row0\" class=\"row_heading level0 row0\" rowspan=\"2\">female</th>\n",
       "      <th id=\"T_cd32f_level1_row0\" class=\"row_heading level1 row0\" >completed</th>\n",
       "      <td id=\"T_cd32f_row0_col0\" class=\"data row0 col0\" >66.953150</td>\n",
       "      <td id=\"T_cd32f_row0_col1\" class=\"data row0 col1\" >76.959252</td>\n",
       "      <td id=\"T_cd32f_row0_col2\" class=\"data row0 col2\" >78.825394</td>\n",
       "    </tr>\n",
       "    <tr>\n",
       "      <th id=\"T_cd32f_level1_row1\" class=\"row_heading level1 row1\" >none</th>\n",
       "      <td id=\"T_cd32f_row1_col0\" class=\"data row1 col0\" >62.669954</td>\n",
       "      <td id=\"T_cd32f_row1_col1\" class=\"data row1 col1\" >70.836717</td>\n",
       "      <td id=\"T_cd32f_row1_col2\" class=\"data row1 col2\" >69.925077</td>\n",
       "    </tr>\n",
       "    <tr>\n",
       "      <th id=\"T_cd32f_level0_row2\" class=\"row_heading level0 row2\" rowspan=\"2\">male</th>\n",
       "      <th id=\"T_cd32f_level1_row2\" class=\"row_heading level1 row2\" >completed</th>\n",
       "      <td id=\"T_cd32f_row2_col0\" class=\"data row2 col0\" >72.249231</td>\n",
       "      <td id=\"T_cd32f_row2_col1\" class=\"data row2 col1\" >70.371077</td>\n",
       "      <td id=\"T_cd32f_row2_col2\" class=\"data row2 col2\" >70.407795</td>\n",
       "    </tr>\n",
       "    <tr>\n",
       "      <th id=\"T_cd32f_level1_row3\" class=\"row_heading level1 row3\" >none</th>\n",
       "      <td id=\"T_cd32f_row3_col0\" class=\"data row3 col0\" >67.571166</td>\n",
       "      <td id=\"T_cd32f_row3_col1\" class=\"data row3 col1\" >63.725585</td>\n",
       "      <td id=\"T_cd32f_row3_col2\" class=\"data row3 col2\" >60.862406</td>\n",
       "    </tr>\n",
       "  </tbody>\n",
       "</table>\n"
      ],
      "text/plain": [
       "<pandas.io.formats.style.Styler at 0x115343d0>"
      ]
     },
     "execution_count": 31,
     "metadata": {},
     "output_type": "execute_result"
    }
   ],
   "source": [
    "df.groupby([\"Gender\",\"TestPrep\"]).agg({\"MathScore\":\"mean\",\"ReadingScore\":\"mean\",\"WritingScore\":\"mean\"}).style.background_gradient(cmap=\"Blues\")"
   ]
  },
  {
   "cell_type": "markdown",
   "id": "6383c3c6",
   "metadata": {},
   "source": [
    "# Impact of Lunch Type on Scores (If any)"
   ]
  },
  {
   "cell_type": "code",
   "execution_count": 24,
   "id": "1e27cb15",
   "metadata": {},
   "outputs": [
    {
     "data": {
      "image/png": "[encoded data removed]",
      "text/plain": [
       "<Figure size 432x288 with 1 Axes>"
      ]
     },
     "metadata": {
      "needs_background": "light"
     },
     "output_type": "display_data"
    }
   ],
   "source": [
    "lt=sns.countplot(data=df, x=\"LunchType\")\n",
    "lt.bar_label(lt.containers[0])\n",
    "plt.show()"
   ]
  },
  {
   "cell_type": "code",
   "execution_count": 25,
   "id": "41b20cce",
   "metadata": {},
   "outputs": [
    {
     "data": {
      "text/html": [
       "<style type=\"text/css\">\n",
       "#T_0cb2e_row0_col0, #T_0cb2e_row0_col1, #T_0cb2e_row0_col2 {\n",
       "  background-color: #f7fcf5;\n",
       "  color: #000000;\n",
       "}\n",
       "#T_0cb2e_row1_col0, #T_0cb2e_row1_col1, #T_0cb2e_row1_col2 {\n",
       "  background-color: #00441b;\n",
       "  color: #f1f1f1;\n",
       "}\n",
       "</style>\n",
       "<table id=\"T_0cb2e\">\n",
       "  <thead>\n",
       "    <tr>\n",
       "      <th class=\"blank level0\" >&nbsp;</th>\n",
       "      <th id=\"T_0cb2e_level0_col0\" class=\"col_heading level0 col0\" >MathScore</th>\n",
       "      <th id=\"T_0cb2e_level0_col1\" class=\"col_heading level0 col1\" >ReadingScore</th>\n",
       "      <th id=\"T_0cb2e_level0_col2\" class=\"col_heading level0 col2\" >WritingScore</th>\n",
       "    </tr>\n",
       "    <tr>\n",
       "      <th class=\"index_name level0\" >LunchType</th>\n",
       "      <th class=\"blank col0\" >&nbsp;</th>\n",
       "      <th class=\"blank col1\" >&nbsp;</th>\n",
       "      <th class=\"blank col2\" >&nbsp;</th>\n",
       "    </tr>\n",
       "  </thead>\n",
       "  <tbody>\n",
       "    <tr>\n",
       "      <th id=\"T_0cb2e_level0_row0\" class=\"row_heading level0 row0\" >free/reduced</th>\n",
       "      <td id=\"T_0cb2e_row0_col0\" class=\"data row0 col0\" >58.862332</td>\n",
       "      <td id=\"T_0cb2e_row0_col1\" class=\"data row0 col1\" >64.189735</td>\n",
       "      <td id=\"T_0cb2e_row0_col2\" class=\"data row0 col2\" >62.650522</td>\n",
       "    </tr>\n",
       "    <tr>\n",
       "      <th id=\"T_0cb2e_level0_row1\" class=\"row_heading level0 row1\" >standard</th>\n",
       "      <td id=\"T_0cb2e_row1_col0\" class=\"data row1 col0\" >70.709370</td>\n",
       "      <td id=\"T_0cb2e_row1_col1\" class=\"data row1 col1\" >72.175634</td>\n",
       "      <td id=\"T_0cb2e_row1_col2\" class=\"data row1 col2\" >71.529716</td>\n",
       "    </tr>\n",
       "  </tbody>\n",
       "</table>\n"
      ],
      "text/plain": [
       "<pandas.io.formats.style.Styler at 0x11539b50>"
      ]
     },
     "execution_count": 25,
     "metadata": {},
     "output_type": "execute_result"
    }
   ],
   "source": [
    "df.groupby(\"LunchType\").agg({\"MathScore\":\"mean\",\"ReadingScore\":\"mean\",\"WritingScore\":\"mean\"}).style.background_gradient(cmap=\"Greens\")"
   ]
  },
  {
   "cell_type": "code",
   "execution_count": null,
   "id": "c347d10b",
   "metadata": {},
   "outputs": [],
   "source": []
  }
 ],
 "metadata": {
  "kernelspec": {
   "display_name": "Python 3 (ipykernel)",
   "language": "python",
   "name": "python3"
  },
  "language_info": {
   "codemirror_mode": {
    "name": "ipython",
    "version": 3
   },
   "file_extension": ".py",
   "mimetype": "text/x-python",
   "name": "python",
   "nbconvert_exporter": "python",
   "pygments_lexer": "ipython3",
   "version": "3.9.12"
  }
 },
 "nbformat": 4,
 "nbformat_minor": 5
}
